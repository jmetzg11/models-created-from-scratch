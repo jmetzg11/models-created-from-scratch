{
 "cells": [
  {
   "cell_type": "markdown",
   "metadata": {},
   "source": [
    "# Monte Carlo Simulation"
   ]
  },
  {
   "cell_type": "code",
   "execution_count": 1,
   "metadata": {},
   "outputs": [],
   "source": [
    "import random"
   ]
  },
  {
   "cell_type": "code",
   "execution_count": 37,
   "metadata": {},
   "outputs": [],
   "source": [
    "def random_walk(steps):\n",
    "    \"\"\"Returns location on a grid after 'n' trails\"\"\"\n",
    "    x, y = 0, 0\n",
    "    for i in range(steps):\n",
    "        dx, dy=random.choice([(0,1),(0,-1),(-1,0),(1,0)])\n",
    "        x+=dx\n",
    "        y+=dy\n",
    "    return (x,y)"
   ]
  },
  {
   "cell_type": "markdown",
   "metadata": {},
   "source": [
    "- scenario: if distance is less than 5, we don't need transport\n",
    "- simulations = 25,000"
   ]
  },
  {
   "cell_type": "code",
   "execution_count": 109,
   "metadata": {},
   "outputs": [
    {
     "name": "stdout",
     "output_type": "stream",
     "text": [
      "with 1 steps, no transport will be taken 1.0\n",
      "with 2 steps, no transport will be taken 1.0\n",
      "with 3 steps, no transport will be taken 1.0\n",
      "with 4 steps, no transport will be taken 1.0\n",
      "with 5 steps, no transport will be taken 0.8824352974118965\n",
      "with 6 steps, no transport will be taken 0.9411176447057882\n",
      "with 7 steps, no transport will be taken 0.764910596423857\n",
      "with 8 steps, no transport will be taken 0.8631145245809833\n",
      "with 9 steps, no transport will be taken 0.673546941877675\n",
      "with 10 steps, no transport will be taken 0.7933917356694268\n",
      "with 11 steps, no transport will be taken 0.6041441657666307\n",
      "with 12 steps, no transport will be taken 0.7349893995759831\n",
      "with 13 steps, no transport will be taken 0.5386615464618585\n",
      "with 14 steps, no transport will be taken 0.6743869754790192\n",
      "with 15 steps, no transport will be taken 0.4875395015800632\n",
      "with 16 steps, no transport will be taken 0.6183047321892876\n",
      "with 17 steps, no transport will be taken 0.44089763590543624\n",
      "with 18 steps, no transport will be taken 0.5810232409296372\n",
      "with 19 steps, no transport will be taken 0.4110564422576903\n",
      "with 20 steps, no transport will be taken 0.5440217608704349\n",
      "with 21 steps, no transport will be taken 0.38337533501340054\n",
      "with 22 steps, no transport will be taken 0.5083403336133445\n",
      "with 23 steps, no transport will be taken 0.3496539861594464\n",
      "with 24 steps, no transport will be taken 0.4760590423616945\n",
      "with 25 steps, no transport will be taken 0.3330933237329493\n",
      "with 26 steps, no transport will be taken 0.45681827273090925\n",
      "with 27 steps, no transport will be taken 0.3083323332933317\n",
      "with 28 steps, no transport will be taken 0.42989719588783554\n",
      "with 29 steps, no transport will be taken 0.2949717988719549\n",
      "with 30 steps, no transport will be taken 0.406576263050522\n",
      "with 31 steps, no transport will be taken 0.27641105644225766\n",
      "with 32 steps, no transport will be taken 0.3920556822272891\n",
      "with 33 steps, no transport will be taken 0.2605704228169127\n",
      "with 34 steps, no transport will be taken 0.3734549381975279\n",
      "with 35 steps, no transport will be taken 0.2528501140045602\n",
      "with 36 steps, no transport will be taken 0.35057402296091844\n",
      "with 37 steps, no transport will be taken 0.23996959878395135\n",
      "with 38 steps, no transport will be taken 0.3380135205408216\n",
      "with 39 steps, no transport will be taken 0.2267690707628305\n"
     ]
    }
   ],
   "source": [
    "number_walks=25000\n",
    "for steps in range(1,40):\n",
    "    no_transport=0\n",
    "    for i in range(1,number_walks):\n",
    "        x,y=random_walk(steps)\n",
    "        distance=abs(x)+abs(y)\n",
    "        if distance <= 4:\n",
    "            no_transport+=1\n",
    "    print('with',steps,'steps, no transport will be taken',(no_transport/i))"
   ]
  },
  {
   "cell_type": "markdown",
   "metadata": {},
   "source": [
    "credit goes to: https://www.youtube.com/watch?v=BfS2H1y6tzQ"
   ]
  }
 ],
 "metadata": {
  "kernelspec": {
   "display_name": "Python 3.7 (tensorflow)",
   "language": "python",
   "name": "tensorflow"
  },
  "language_info": {
   "codemirror_mode": {
    "name": "ipython",
    "version": 3
   },
   "file_extension": ".py",
   "mimetype": "text/x-python",
   "name": "python",
   "nbconvert_exporter": "python",
   "pygments_lexer": "ipython3",
   "version": "3.7.7"
  }
 },
 "nbformat": 4,
 "nbformat_minor": 4
}
