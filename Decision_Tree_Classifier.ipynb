{
 "cells": [
  {
   "cell_type": "markdown",
   "metadata": {},
   "source": [
    "# Decision Tree Classification"
   ]
  },
  {
   "cell_type": "code",
   "execution_count": 1,
   "metadata": {},
   "outputs": [],
   "source": [
    "import pandas as pd\n",
    "import numpy as np\n",
    "import random\n",
    "from collections import Counter"
   ]
  },
  {
   "cell_type": "markdown",
   "metadata": {},
   "source": [
    "### Importing the data\n",
    "- The data can be found here: https://archive.ics.uci.edu/ml/datasets/Wine+Quality. The target variable will be 'color' and there are 12 features. "
   ]
  },
  {
   "cell_type": "code",
   "execution_count": 2,
   "metadata": {},
   "outputs": [],
   "source": [
    "red=pd.read_csv('winequality-red.csv',sep=';')\n",
    "white=pd.read_csv('winequality-white.csv',sep=';')\n",
    "white['color']=0\n",
    "red['color']=1\n",
    "red_index=random.sample(range(0,len(red)),100)         # taking a small sample so training is faster\n",
    "white_index=random.sample(range(0,len(white)),100)\n",
    "red_sample=red.iloc[red_index]\n",
    "white_sample=white.iloc[white_index]\n",
    "data=pd.concat([white_sample,red_sample],ignore_index=True)"
   ]
  },
  {
   "cell_type": "markdown",
   "metadata": {},
   "source": [
    "### Splitting into training and test sets"
   ]
  },
  {
   "cell_type": "code",
   "execution_count": 7,
   "metadata": {},
   "outputs": [],
   "source": [
    "target='color'\n",
    "features=data.columns.drop(labels='color')\n",
    "i_test=random.sample(range(0,200),50)\n",
    "i_train=[]\n",
    "for i in data.index:\n",
    "    if i not in i_test:\n",
    "        i_train.append(i)\n",
    "train=np.array(data.loc[i_train])\n",
    "X_train=np.array(data.loc[i_train,features])\n",
    "y_train=np.array(data.loc[i_train,target])\n",
    "X_test=np.array(data.loc[i_test,features])\n",
    "y_test=np.array(data.loc[i_test,target])\n",
    "test=np.array(data.loc[i_test])"
   ]
  },
  {
   "cell_type": "code",
   "execution_count": 8,
   "metadata": {},
   "outputs": [
    {
     "data": {
      "text/plain": [
       "(50, 12)"
      ]
     },
     "execution_count": 8,
     "metadata": {},
     "output_type": "execute_result"
    }
   ],
   "source": [
    "X_test.shape"
   ]
  },
  {
   "cell_type": "markdown",
   "metadata": {},
   "source": [
    "### Needed functions"
   ]
  },
  {
   "cell_type": "code",
   "execution_count": 9,
   "metadata": {},
   "outputs": [],
   "source": [
    "def unique_vals(rows, col):                # Gets the unique values for each colomn \n",
    "    return set([row[col] for row in rows])\n",
    "\n",
    "def class_count(data):                    # counts the number of target variables\n",
    "    counts = {}\n",
    "    for row in data:\n",
    "        label=row[-1]\n",
    "        if label not in counts:\n",
    "            counts[label] =0\n",
    "        counts[label] +=1\n",
    "    return counts\n",
    " \n",
    "class Evaluator:                           # boolean values by columns with a predetermined by\n",
    "    def __init__(self, column, value):\n",
    "        self.column=column\n",
    "        self.value=value\n",
    "    def evaluate(self, example):\n",
    "        val=example[self.column]\n",
    "        return val >= self.value\n",
    "    \n",
    "def partition(rows, evaluator):            #boolean values evaluator class go into different lists\n",
    "    true_rows, false_rows = [], []\n",
    "    for row in rows:\n",
    "        if evaluator.evaluate(row):\n",
    "            true_rows.append(row)\n",
    "        else:\n",
    "            false_rows.append(row)\n",
    "    return true_rows, false_rows"
   ]
  },
  {
   "cell_type": "markdown",
   "metadata": {},
   "source": [
    "### Gini impurity\n",
    "$=1-\\sum\\limits_{i=1}^{J}pi^{2}$  \n",
    "- J = is the number of target variables\n",
    "- measures the probability of a value not being select. A value of zero means that the node has only one value\n",
    "- source: https://en.wikipedia.org/wiki/Decision_tree_learning#Gini_impurity"
   ]
  },
  {
   "cell_type": "code",
   "execution_count": 10,
   "metadata": {},
   "outputs": [],
   "source": [
    "def gini(rows):\n",
    "    counts=class_count(rows)\n",
    "    impurity=1\n",
    "    for i in counts:\n",
    "        prob_i=counts[i]/float(len(rows))\n",
    "        impurity -= prob_i**2\n",
    "    return impurity"
   ]
  },
  {
   "cell_type": "markdown",
   "metadata": {},
   "source": [
    "### Information Gain\n",
    "- parent = current uncertainty\n",
    "- w = weighted impurity for children\n",
    "$information_gain = parent - w*impurity(left) - (1-w)*impurity(right)$"
   ]
  },
  {
   "cell_type": "code",
   "execution_count": 11,
   "metadata": {},
   "outputs": [],
   "source": [
    "def info_gain(left, right, current_uncertainty ):\n",
    "    w=float(len(left))/len(left)+len(right)\n",
    "    return current_uncertainty  - w*gini(left)-(1-w)*gini(right)"
   ]
  },
  {
   "cell_type": "code",
   "execution_count": 12,
   "metadata": {},
   "outputs": [],
   "source": [
    "def find_best_split(rows):  # goes over all data to find the highest info gain\n",
    "    best_gain=0\n",
    "    best_evaluator=None\n",
    "    current_uncertainty = gini(rows)\n",
    "    for col in range(12):\n",
    "        values=set([row[col] for row in rows])\n",
    "        for val in values:\n",
    "            evaluation=Evaluator(col, val)\n",
    "            true_rows, false_rows = partition(rows, evaluation)\n",
    "            \n",
    "            if len(true_rows)==0 or len(false_rows)==0:\n",
    "                continue\n",
    "            gain = info_gain(true_rows, false_rows, current_uncertainty)\n",
    "            \n",
    "            if gain > best_gain:\n",
    "                best_gain, best_evaluator = gain, evaluation\n",
    "    return best_gain, best_evaluator\n",
    "\n",
    "class Leaf:                    # counts the number of target values \n",
    "    def __init__(self, rows):\n",
    "        self.predictions = class_count(rows)\n",
    "class Decision_Node:\n",
    "    def __init__(self, evaluator, true_branch, false_branch):   # holds reference to evaluation and children nodes\n",
    "        self.evaluator=evaluator\n",
    "        self.true_branch=true_branch\n",
    "        self.false_branch=false_branch\n"
   ]
  },
  {
   "cell_type": "code",
   "execution_count": 13,
   "metadata": {},
   "outputs": [],
   "source": [
    "def build_tree(rows):\n",
    "    gain, evaluator=find_best_split(rows)\n",
    "    if gain==0:\n",
    "        return Leaf(rows)\n",
    "    true_rows, false_rows = partition(rows, evaluator)\n",
    "    true_branch=build_tree(true_rows)\n",
    "    false_branch=build_tree(false_rows)\n",
    "    return Decision_Node(evaluator, true_branch, false_branch)"
   ]
  },
  {
   "cell_type": "code",
   "execution_count": 14,
   "metadata": {},
   "outputs": [],
   "source": [
    "def classify(row, node):\n",
    "    if isinstance(node, Leaf):\n",
    "        return node.predictions\n",
    "    if node.evaluator.evaluate(row):\n",
    "        return classify(row, node.true_branch)\n",
    "    else:\n",
    "        return classify(row, node.false_branch)"
   ]
  },
  {
   "cell_type": "code",
   "execution_count": 15,
   "metadata": {},
   "outputs": [],
   "source": [
    "tree=build_tree(train)\n",
    "results=[]\n",
    "for row in X_test:\n",
    "    pred=classify(row, tree)\n",
    "    for k,v in pred.items():\n",
    "        results.append(k)\n",
    "results=np.array(results)"
   ]
  },
  {
   "cell_type": "markdown",
   "metadata": {},
   "source": [
    "### Comparison with Sklearn"
   ]
  },
  {
   "cell_type": "code",
   "execution_count": 33,
   "metadata": {},
   "outputs": [],
   "source": [
    "from sklearn.metrics import confusion_matrix\n",
    "from sklearn.tree import DecisionTreeClassifier\n",
    "from sklearn import metrics"
   ]
  },
  {
   "cell_type": "code",
   "execution_count": 46,
   "metadata": {
    "scrolled": false
   },
   "outputs": [],
   "source": [
    "clf = DecisionTreeClassifier()\n",
    "clf.fit(X_train,y_train)\n",
    "sk_predictions=clf.predict(X_test)"
   ]
  },
  {
   "cell_type": "code",
   "execution_count": 47,
   "metadata": {},
   "outputs": [
    {
     "name": "stdout",
     "output_type": "stream",
     "text": [
      "my confusion matrix:\n",
      "[[22  2]\n",
      " [ 5 21]]\n",
      "sklearn confusin matrix:\n",
      "[[23  1]\n",
      " [ 2 24]]\n"
     ]
    }
   ],
   "source": [
    "my_confusion=metrics.confusion_matrix(y_test, results)\n",
    "sklearn_confusion=metrics.confusion_matrix(y_test, sk_predictions)\n",
    "print('my confusion matrix:')\n",
    "print(my_confusion)\n",
    "print('sklearn confusin matrix:')\n",
    "print(sklearn_confusion)"
   ]
  },
  {
   "cell_type": "markdown",
   "metadata": {},
   "source": [
    "### The Sklearn model performs better. \n",
    "- The better performace could be due the 'min_samples_leaf', 'splitter', or 'min_samples_spilt' parameters being different than min. "
   ]
  },
  {
   "cell_type": "markdown",
   "metadata": {},
   "source": [
    "### major plagiarism from:\n",
    "https://github.com/random-forests/tutorials/blob/master/decision_tree.ipynb"
   ]
  }
 ],
 "metadata": {
  "kernelspec": {
   "display_name": "Python 3.7 (tensorflow)",
   "language": "python",
   "name": "tensorflow"
  },
  "language_info": {
   "codemirror_mode": {
    "name": "ipython",
    "version": 3
   },
   "file_extension": ".py",
   "mimetype": "text/x-python",
   "name": "python",
   "nbconvert_exporter": "python",
   "pygments_lexer": "ipython3",
   "version": "3.7.7"
  }
 },
 "nbformat": 4,
 "nbformat_minor": 4
}
