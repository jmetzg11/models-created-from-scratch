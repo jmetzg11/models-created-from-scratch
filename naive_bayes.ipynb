{
 "cells": [
  {
   "cell_type": "markdown",
   "metadata": {},
   "source": [
    "# Naive Bayes\n",
    "## Scenario\n",
    "- I am a taxi driver. Will my passanger be friendly? "
   ]
  },
  {
   "cell_type": "code",
   "execution_count": 175,
   "metadata": {},
   "outputs": [],
   "source": [
    "import pandas as pd\n",
    "import numpy as np\n",
    "import random"
   ]
  },
  {
   "cell_type": "markdown",
   "metadata": {},
   "source": [
    "### Creating data"
   ]
  },
  {
   "cell_type": "code",
   "execution_count": 177,
   "metadata": {},
   "outputs": [
    {
     "data": {
      "text/html": [
       "<div>\n",
       "<style scoped>\n",
       "    .dataframe tbody tr th:only-of-type {\n",
       "        vertical-align: middle;\n",
       "    }\n",
       "\n",
       "    .dataframe tbody tr th {\n",
       "        vertical-align: top;\n",
       "    }\n",
       "\n",
       "    .dataframe thead th {\n",
       "        text-align: right;\n",
       "    }\n",
       "</style>\n",
       "<table border=\"1\" class=\"dataframe\">\n",
       "  <thead>\n",
       "    <tr style=\"text-align: right;\">\n",
       "      <th></th>\n",
       "      <th>distance</th>\n",
       "      <th>alone</th>\n",
       "      <th>destination</th>\n",
       "      <th>time</th>\n",
       "      <th>day</th>\n",
       "      <th>attitude</th>\n",
       "    </tr>\n",
       "  </thead>\n",
       "  <tbody>\n",
       "    <tr>\n",
       "      <th>1</th>\n",
       "      <td>long</td>\n",
       "      <td>yes</td>\n",
       "      <td>center</td>\n",
       "      <td>night</td>\n",
       "      <td>Wed</td>\n",
       "      <td>bad</td>\n",
       "    </tr>\n",
       "    <tr>\n",
       "      <th>2</th>\n",
       "      <td>short</td>\n",
       "      <td>yes</td>\n",
       "      <td>center</td>\n",
       "      <td>night</td>\n",
       "      <td>Sun</td>\n",
       "      <td>good</td>\n",
       "    </tr>\n",
       "    <tr>\n",
       "      <th>3</th>\n",
       "      <td>medium</td>\n",
       "      <td>no</td>\n",
       "      <td>outwards</td>\n",
       "      <td>day</td>\n",
       "      <td>Thu</td>\n",
       "      <td>good</td>\n",
       "    </tr>\n",
       "    <tr>\n",
       "      <th>4</th>\n",
       "      <td>medium</td>\n",
       "      <td>yes</td>\n",
       "      <td>center</td>\n",
       "      <td>night</td>\n",
       "      <td>Sat</td>\n",
       "      <td>good</td>\n",
       "    </tr>\n",
       "    <tr>\n",
       "      <th>5</th>\n",
       "      <td>medium</td>\n",
       "      <td>yes</td>\n",
       "      <td>center</td>\n",
       "      <td>morning</td>\n",
       "      <td>Fri</td>\n",
       "      <td>bad</td>\n",
       "    </tr>\n",
       "  </tbody>\n",
       "</table>\n",
       "</div>"
      ],
      "text/plain": [
       "  distance alone destination     time  day attitude\n",
       "1     long   yes      center    night  Wed      bad\n",
       "2    short   yes      center    night  Sun     good\n",
       "3   medium    no    outwards      day  Thu     good\n",
       "4   medium   yes      center    night  Sat     good\n",
       "5   medium   yes      center  morning  Fri      bad"
      ]
     },
     "execution_count": 177,
     "metadata": {},
     "output_type": "execute_result"
    }
   ],
   "source": [
    "df=pd.DataFrame(index=range(1,501),columns=['distance','alone','destination','time','day','attitude'])\n",
    "\n",
    "for row in df.index:                                         # distance\n",
    "    i=random.random()\n",
    "    if i < .4:\n",
    "        df.loc[row,'distance']='short'\n",
    "    elif i > .4 and i < .88:\n",
    "        df.loc[row,'distance']='medium'\n",
    "    else:\n",
    "        df.loc[row,'distance']='long'\n",
    "        \n",
    "for row in df.index:                                         # alone\n",
    "    i=random.random()\n",
    "    if i <.65:\n",
    "        df.loc[row,'alone']='yes'\n",
    "    else:\n",
    "        df.loc[row,'alone']='no'\n",
    "        \n",
    "for row in df.index:                                         # destination\n",
    "    i=random.random()\n",
    "    if i < .7:\n",
    "        df.loc[row,'destination']='center'\n",
    "    else:\n",
    "        df.loc[row,'destination']='outwards'\n",
    "\n",
    "for row in df.index:                                         # time\n",
    "    i=random.random()\n",
    "    if i < .2:\n",
    "        df.loc[row,'time']='morning'\n",
    "    elif i >.2 and i < .666:\n",
    "        df.loc[row,'time']='day'\n",
    "    else:\n",
    "        df.loc[row,'time']='night'\n",
    "\n",
    "for row in df.index:                                         # day\n",
    "    i=random.random()\n",
    "    if i < .142857:\n",
    "        df.loc[row,'day']='Mon'\n",
    "    elif i >.142857 and i < .2857:\n",
    "        df.loc[row,'day']='Tue'\n",
    "    elif i >.2857 and i < .4285:\n",
    "        df.loc[row,'day']='Wed'\n",
    "    elif i >.4285 and i < .5714:\n",
    "        df.loc[row,'day']='Thu'\n",
    "    elif i >.5714 and i < .71428:\n",
    "        df.loc[row,'day']='Fri'\n",
    "    elif i >.71428 and i < .8571:\n",
    "        df.loc[row,'day']='Sat'\n",
    "    else:\n",
    "        df.loc[row,'day']='Sun'\n",
    "\n",
    "for row in df.index:              # attitude, because attitdue is near 50% then any senario should be near 50%\n",
    "    i=random.random()\n",
    "    if i < .50:\n",
    "        df.loc[row,'attitude']='good'\n",
    "    else:\n",
    "        df.loc[row,'attitude']='bad'\n",
    "df.head()"
   ]
  },
  {
   "cell_type": "markdown",
   "metadata": {},
   "source": [
    "# Probability tables"
   ]
  },
  {
   "cell_type": "code",
   "execution_count": 178,
   "metadata": {},
   "outputs": [
    {
     "name": "stdout",
     "output_type": "stream",
     "text": [
      "Attitude\n"
     ]
    },
    {
     "data": {
      "text/html": [
       "<div>\n",
       "<style scoped>\n",
       "    .dataframe tbody tr th:only-of-type {\n",
       "        vertical-align: middle;\n",
       "    }\n",
       "\n",
       "    .dataframe tbody tr th {\n",
       "        vertical-align: top;\n",
       "    }\n",
       "\n",
       "    .dataframe thead th {\n",
       "        text-align: right;\n",
       "    }\n",
       "</style>\n",
       "<table border=\"1\" class=\"dataframe\">\n",
       "  <thead>\n",
       "    <tr style=\"text-align: right;\">\n",
       "      <th></th>\n",
       "      <th>count</th>\n",
       "      <th>%</th>\n",
       "    </tr>\n",
       "  </thead>\n",
       "  <tbody>\n",
       "    <tr>\n",
       "      <th>bad</th>\n",
       "      <td>255</td>\n",
       "      <td>0.51</td>\n",
       "    </tr>\n",
       "    <tr>\n",
       "      <th>good</th>\n",
       "      <td>245</td>\n",
       "      <td>0.49</td>\n",
       "    </tr>\n",
       "  </tbody>\n",
       "</table>\n",
       "</div>"
      ],
      "text/plain": [
       "     count     %\n",
       "bad    255  0.51\n",
       "good   245  0.49"
      ]
     },
     "execution_count": 178,
     "metadata": {},
     "output_type": "execute_result"
    }
   ],
   "source": [
    "attitude=pd.DataFrame(index=(df.attitude.unique()),columns=['count','%'])\n",
    "attitude.iloc[0,0]=len(df[df.attitude=='good'])\n",
    "attitude.iloc[1,0]=len(df[df.attitude=='bad'])\n",
    "attitude.iloc[0,1]=attitude.iloc[0,0]/len(df)\n",
    "attitude.iloc[1,1]=attitude.iloc[1,0]/len(df)\n",
    "print('Attitude')\n",
    "attitude"
   ]
  },
  {
   "cell_type": "code",
   "execution_count": 179,
   "metadata": {},
   "outputs": [
    {
     "name": "stdout",
     "output_type": "stream",
     "text": [
      "Distance\n"
     ]
    },
    {
     "data": {
      "text/html": [
       "<div>\n",
       "<style scoped>\n",
       "    .dataframe tbody tr th:only-of-type {\n",
       "        vertical-align: middle;\n",
       "    }\n",
       "\n",
       "    .dataframe tbody tr th {\n",
       "        vertical-align: top;\n",
       "    }\n",
       "\n",
       "    .dataframe thead th {\n",
       "        text-align: right;\n",
       "    }\n",
       "</style>\n",
       "<table border=\"1\" class=\"dataframe\">\n",
       "  <thead>\n",
       "    <tr style=\"text-align: right;\">\n",
       "      <th></th>\n",
       "      <th>good count</th>\n",
       "      <th>bad count</th>\n",
       "      <th>good %</th>\n",
       "      <th>bad %</th>\n",
       "    </tr>\n",
       "  </thead>\n",
       "  <tbody>\n",
       "    <tr>\n",
       "      <th>long</th>\n",
       "      <td>100</td>\n",
       "      <td>104</td>\n",
       "      <td>0.2</td>\n",
       "      <td>0.208</td>\n",
       "    </tr>\n",
       "    <tr>\n",
       "      <th>short</th>\n",
       "      <td>118</td>\n",
       "      <td>121</td>\n",
       "      <td>0.236</td>\n",
       "      <td>0.242</td>\n",
       "    </tr>\n",
       "    <tr>\n",
       "      <th>medium</th>\n",
       "      <td>37</td>\n",
       "      <td>20</td>\n",
       "      <td>0.074</td>\n",
       "      <td>0.04</td>\n",
       "    </tr>\n",
       "  </tbody>\n",
       "</table>\n",
       "</div>"
      ],
      "text/plain": [
       "       good count bad count good %  bad %\n",
       "long          100       104    0.2  0.208\n",
       "short         118       121  0.236  0.242\n",
       "medium         37        20  0.074   0.04"
      ]
     },
     "execution_count": 179,
     "metadata": {},
     "output_type": "execute_result"
    }
   ],
   "source": [
    "distance=pd.DataFrame(index=(df.distance.unique()),columns=['good count','bad count','good %','bad %'])\n",
    "distance.iloc[0,0]=len(df[(df.attitude=='good') & (df.distance=='short')])\n",
    "distance.iloc[1,0]=len(df[(df.attitude=='good') & (df.distance=='medium')])\n",
    "distance.iloc[2,0]=len(df[(df.attitude=='good') & (df.distance=='long')])\n",
    "distance.iloc[0,1]=len(df[(df.attitude=='bad') & (df.distance=='short')])\n",
    "distance.iloc[1,1]=len(df[(df.attitude=='bad') & (df.distance=='medium')])\n",
    "distance.iloc[2,1]=len(df[(df.attitude=='bad') & (df.distance=='long')])\n",
    "distance.iloc[0,2]=distance.iloc[0,0]/len(df)\n",
    "distance.iloc[1,2]=distance.iloc[1,0]/len(df)\n",
    "distance.iloc[2,2]=distance.iloc[2,0]/len(df)\n",
    "distance.iloc[0,3]=distance.iloc[0,1]/len(df)\n",
    "distance.iloc[1,3]=distance.iloc[1,1]/len(df)\n",
    "distance.iloc[2,3]=distance.iloc[2,1]/len(df)\n",
    "print('Distance')\n",
    "distance"
   ]
  },
  {
   "cell_type": "code",
   "execution_count": 180,
   "metadata": {},
   "outputs": [
    {
     "name": "stdout",
     "output_type": "stream",
     "text": [
      "Alone\n"
     ]
    },
    {
     "data": {
      "text/html": [
       "<div>\n",
       "<style scoped>\n",
       "    .dataframe tbody tr th:only-of-type {\n",
       "        vertical-align: middle;\n",
       "    }\n",
       "\n",
       "    .dataframe tbody tr th {\n",
       "        vertical-align: top;\n",
       "    }\n",
       "\n",
       "    .dataframe thead th {\n",
       "        text-align: right;\n",
       "    }\n",
       "</style>\n",
       "<table border=\"1\" class=\"dataframe\">\n",
       "  <thead>\n",
       "    <tr style=\"text-align: right;\">\n",
       "      <th></th>\n",
       "      <th>good count</th>\n",
       "      <th>bad count</th>\n",
       "      <th>good %</th>\n",
       "      <th>bad %</th>\n",
       "    </tr>\n",
       "  </thead>\n",
       "  <tbody>\n",
       "    <tr>\n",
       "      <th>yes</th>\n",
       "      <td>80</td>\n",
       "      <td>91</td>\n",
       "      <td>0.16</td>\n",
       "      <td>0.182</td>\n",
       "    </tr>\n",
       "    <tr>\n",
       "      <th>no</th>\n",
       "      <td>175</td>\n",
       "      <td>154</td>\n",
       "      <td>0.35</td>\n",
       "      <td>0.308</td>\n",
       "    </tr>\n",
       "  </tbody>\n",
       "</table>\n",
       "</div>"
      ],
      "text/plain": [
       "    good count bad count good %  bad %\n",
       "yes         80        91   0.16  0.182\n",
       "no         175       154   0.35  0.308"
      ]
     },
     "execution_count": 180,
     "metadata": {},
     "output_type": "execute_result"
    }
   ],
   "source": [
    "alone=pd.DataFrame(index=(df.alone.unique()),columns=['good count','bad count','good %','bad %'])\n",
    "alone.iloc[0,0]=len(df[(df.attitude=='good')&(df.alone=='no')])\n",
    "alone.iloc[1,0]=len(df[(df.attitude=='good')&(df.alone=='yes')])\n",
    "alone.iloc[0,1]=len(df[(df.attitude=='bad')&(df.alone=='no')])\n",
    "alone.iloc[1,1]=len(df[(df.attitude=='bad')&(df.alone=='yes')])\n",
    "alone.iloc[0,2]=alone.iloc[0,0]/len(df)\n",
    "alone.iloc[1,2]=alone.iloc[1,0]/len(df)\n",
    "alone.iloc[0,3]=alone.iloc[0,1]/len(df)\n",
    "alone.iloc[1,3]=alone.iloc[1,1]/len(df)\n",
    "print('Alone')\n",
    "alone"
   ]
  },
  {
   "cell_type": "code",
   "execution_count": 181,
   "metadata": {},
   "outputs": [
    {
     "name": "stdout",
     "output_type": "stream",
     "text": [
      "Destination\n"
     ]
    },
    {
     "data": {
      "text/html": [
       "<div>\n",
       "<style scoped>\n",
       "    .dataframe tbody tr th:only-of-type {\n",
       "        vertical-align: middle;\n",
       "    }\n",
       "\n",
       "    .dataframe tbody tr th {\n",
       "        vertical-align: top;\n",
       "    }\n",
       "\n",
       "    .dataframe thead th {\n",
       "        text-align: right;\n",
       "    }\n",
       "</style>\n",
       "<table border=\"1\" class=\"dataframe\">\n",
       "  <thead>\n",
       "    <tr style=\"text-align: right;\">\n",
       "      <th></th>\n",
       "      <th>good count</th>\n",
       "      <th>bad count</th>\n",
       "      <th>good %</th>\n",
       "      <th>bad %</th>\n",
       "    </tr>\n",
       "  </thead>\n",
       "  <tbody>\n",
       "    <tr>\n",
       "      <th>center</th>\n",
       "      <td>192</td>\n",
       "      <td>170</td>\n",
       "      <td>0.384</td>\n",
       "      <td>0.34</td>\n",
       "    </tr>\n",
       "    <tr>\n",
       "      <th>outwards</th>\n",
       "      <td>63</td>\n",
       "      <td>75</td>\n",
       "      <td>0.126</td>\n",
       "      <td>0.15</td>\n",
       "    </tr>\n",
       "  </tbody>\n",
       "</table>\n",
       "</div>"
      ],
      "text/plain": [
       "         good count bad count good % bad %\n",
       "center          192       170  0.384  0.34\n",
       "outwards         63        75  0.126  0.15"
      ]
     },
     "execution_count": 181,
     "metadata": {},
     "output_type": "execute_result"
    }
   ],
   "source": [
    "destination=pd.DataFrame(index=(df.destination.unique()),columns=['good count','bad count','good %','bad %'])\n",
    "destination.iloc[0,0]=len(df[(df.destination=='center')&(df.attitude=='good')])\n",
    "destination.iloc[1,0]=len(df[(df.destination=='outwards')&(df.attitude=='good')])\n",
    "destination.iloc[0,1]=len(df[(df.destination=='center')&(df.attitude=='bad')])\n",
    "destination.iloc[1,1]=len(df[(df.destination=='outwards')&(df.attitude=='bad')])\n",
    "destination.iloc[0,2]=destination.iloc[0,0]/len(df)\n",
    "destination.iloc[1,2]=destination.iloc[1,0]/len(df)\n",
    "destination.iloc[0,3]=destination.iloc[0,1]/len(df)\n",
    "destination.iloc[1,3]=destination.iloc[1,1]/len(df)\n",
    "print('Destination')\n",
    "destination"
   ]
  },
  {
   "cell_type": "code",
   "execution_count": 182,
   "metadata": {},
   "outputs": [
    {
     "name": "stdout",
     "output_type": "stream",
     "text": [
      "Time\n"
     ]
    },
    {
     "data": {
      "text/html": [
       "<div>\n",
       "<style scoped>\n",
       "    .dataframe tbody tr th:only-of-type {\n",
       "        vertical-align: middle;\n",
       "    }\n",
       "\n",
       "    .dataframe tbody tr th {\n",
       "        vertical-align: top;\n",
       "    }\n",
       "\n",
       "    .dataframe thead th {\n",
       "        text-align: right;\n",
       "    }\n",
       "</style>\n",
       "<table border=\"1\" class=\"dataframe\">\n",
       "  <thead>\n",
       "    <tr style=\"text-align: right;\">\n",
       "      <th></th>\n",
       "      <th>good count</th>\n",
       "      <th>bad count</th>\n",
       "      <th>good %</th>\n",
       "      <th>bad %</th>\n",
       "    </tr>\n",
       "  </thead>\n",
       "  <tbody>\n",
       "    <tr>\n",
       "      <th>night</th>\n",
       "      <td>79</td>\n",
       "      <td>85</td>\n",
       "      <td>0.158</td>\n",
       "      <td>0.17</td>\n",
       "    </tr>\n",
       "    <tr>\n",
       "      <th>day</th>\n",
       "      <td>120</td>\n",
       "      <td>120</td>\n",
       "      <td>0.24</td>\n",
       "      <td>0.24</td>\n",
       "    </tr>\n",
       "    <tr>\n",
       "      <th>morning</th>\n",
       "      <td>56</td>\n",
       "      <td>40</td>\n",
       "      <td>0.112</td>\n",
       "      <td>0.08</td>\n",
       "    </tr>\n",
       "  </tbody>\n",
       "</table>\n",
       "</div>"
      ],
      "text/plain": [
       "        good count bad count good % bad %\n",
       "night           79        85  0.158  0.17\n",
       "day            120       120   0.24  0.24\n",
       "morning         56        40  0.112  0.08"
      ]
     },
     "execution_count": 182,
     "metadata": {},
     "output_type": "execute_result"
    }
   ],
   "source": [
    "time=pd.DataFrame(index=(df.time.unique()),columns=['good count','bad count','good %','bad %'])\n",
    "time.iloc[0,0]=len(df[(df.time=='night')&(df.attitude=='good')])\n",
    "time.iloc[1,0]=len(df[(df.time=='day')&(df.attitude=='good')])\n",
    "time.iloc[2,0]=len(df[(df.time=='morning')&(df.attitude=='good')])\n",
    "time.iloc[0,1]=len(df[(df.time=='night')&(df.attitude=='bad')])\n",
    "time.iloc[1,1]=len(df[(df.time=='day')&(df.attitude=='bad')])\n",
    "time.iloc[2,1]=len(df[(df.time=='morning')&(df.attitude=='bad')])\n",
    "time.iloc[0,2]=time.iloc[0,0]/len(df)\n",
    "time.iloc[1,2]=time.iloc[1,0]/len(df)\n",
    "time.iloc[2,2]=time.iloc[2,0]/len(df)\n",
    "time.iloc[0,3]=time.iloc[0,1]/len(df)\n",
    "time.iloc[1,3]=time.iloc[1,1]/len(df)\n",
    "time.iloc[2,3]=time.iloc[2,1]/len(df)\n",
    "print('Time')\n",
    "time"
   ]
  },
  {
   "cell_type": "code",
   "execution_count": 183,
   "metadata": {
    "scrolled": true
   },
   "outputs": [
    {
     "name": "stdout",
     "output_type": "stream",
     "text": [
      "Day\n"
     ]
    },
    {
     "data": {
      "text/html": [
       "<div>\n",
       "<style scoped>\n",
       "    .dataframe tbody tr th:only-of-type {\n",
       "        vertical-align: middle;\n",
       "    }\n",
       "\n",
       "    .dataframe tbody tr th {\n",
       "        vertical-align: top;\n",
       "    }\n",
       "\n",
       "    .dataframe thead th {\n",
       "        text-align: right;\n",
       "    }\n",
       "</style>\n",
       "<table border=\"1\" class=\"dataframe\">\n",
       "  <thead>\n",
       "    <tr style=\"text-align: right;\">\n",
       "      <th></th>\n",
       "      <th>good count</th>\n",
       "      <th>bad count</th>\n",
       "      <th>good %</th>\n",
       "      <th>bad %</th>\n",
       "    </tr>\n",
       "  </thead>\n",
       "  <tbody>\n",
       "    <tr>\n",
       "      <th>Wed</th>\n",
       "      <td>44</td>\n",
       "      <td>34</td>\n",
       "      <td>0.088</td>\n",
       "      <td>0.068</td>\n",
       "    </tr>\n",
       "    <tr>\n",
       "      <th>Sun</th>\n",
       "      <td>31</td>\n",
       "      <td>47</td>\n",
       "      <td>0.062</td>\n",
       "      <td>0.094</td>\n",
       "    </tr>\n",
       "    <tr>\n",
       "      <th>Thu</th>\n",
       "      <td>39</td>\n",
       "      <td>22</td>\n",
       "      <td>0.078</td>\n",
       "      <td>0.044</td>\n",
       "    </tr>\n",
       "    <tr>\n",
       "      <th>Sat</th>\n",
       "      <td>33</td>\n",
       "      <td>34</td>\n",
       "      <td>0.066</td>\n",
       "      <td>0.068</td>\n",
       "    </tr>\n",
       "    <tr>\n",
       "      <th>Fri</th>\n",
       "      <td>41</td>\n",
       "      <td>35</td>\n",
       "      <td>0.082</td>\n",
       "      <td>0.07</td>\n",
       "    </tr>\n",
       "    <tr>\n",
       "      <th>Tue</th>\n",
       "      <td>35</td>\n",
       "      <td>41</td>\n",
       "      <td>0.07</td>\n",
       "      <td>0.082</td>\n",
       "    </tr>\n",
       "    <tr>\n",
       "      <th>Mon</th>\n",
       "      <td>32</td>\n",
       "      <td>32</td>\n",
       "      <td>0.064</td>\n",
       "      <td>0.064</td>\n",
       "    </tr>\n",
       "  </tbody>\n",
       "</table>\n",
       "</div>"
      ],
      "text/plain": [
       "    good count bad count good %  bad %\n",
       "Wed         44        34  0.088  0.068\n",
       "Sun         31        47  0.062  0.094\n",
       "Thu         39        22  0.078  0.044\n",
       "Sat         33        34  0.066  0.068\n",
       "Fri         41        35  0.082   0.07\n",
       "Tue         35        41   0.07  0.082\n",
       "Mon         32        32  0.064  0.064"
      ]
     },
     "execution_count": 183,
     "metadata": {},
     "output_type": "execute_result"
    }
   ],
   "source": [
    "day=pd.DataFrame(index=(df.day.unique()),columns=['good count','bad count','good %','bad %'])\n",
    "day.iloc[0,0]=len(df[(df.day=='Sat')&(df.attitude=='good')])\n",
    "day.iloc[1,0]=len(df[(df.day=='Wed')&(df.attitude=='good')])\n",
    "day.iloc[2,0]=len(df[(df.day=='Tue')&(df.attitude=='good')])\n",
    "day.iloc[3,0]=len(df[(df.day=='Sun')&(df.attitude=='good')])\n",
    "day.iloc[4,0]=len(df[(df.day=='Thu')&(df.attitude=='good')])\n",
    "day.iloc[5,0]=len(df[(df.day=='Mon')&(df.attitude=='good')])\n",
    "day.iloc[6,0]=len(df[(df.day=='Fri')&(df.attitude=='good')])\n",
    "day.iloc[0,1]=len(df[(df.day=='Sat')&(df.attitude=='bad')])\n",
    "day.iloc[1,1]=len(df[(df.day=='Wed')&(df.attitude=='bad')])\n",
    "day.iloc[2,1]=len(df[(df.day=='Tue')&(df.attitude=='bad')])\n",
    "day.iloc[3,1]=len(df[(df.day=='Sun')&(df.attitude=='bad')])\n",
    "day.iloc[4,1]=len(df[(df.day=='Thu')&(df.attitude=='bad')])\n",
    "day.iloc[5,1]=len(df[(df.day=='Mon')&(df.attitude=='bad')])\n",
    "day.iloc[6,1]=len(df[(df.day=='Fri')&(df.attitude=='bad')])\n",
    "day.iloc[0,2]=day.iloc[0,0]/len(df)\n",
    "day.iloc[1,2]=day.iloc[1,0]/len(df)\n",
    "day.iloc[2,2]=day.iloc[2,0]/len(df)\n",
    "day.iloc[3,2]=day.iloc[3,0]/len(df)\n",
    "day.iloc[4,2]=day.iloc[4,0]/len(df)\n",
    "day.iloc[5,2]=day.iloc[5,0]/len(df)\n",
    "day.iloc[6,2]=day.iloc[6,0]/len(df)\n",
    "day.iloc[0,3]=day.iloc[0,1]/len(df)\n",
    "day.iloc[1,3]=day.iloc[1,1]/len(df)\n",
    "day.iloc[2,3]=day.iloc[2,1]/len(df)\n",
    "day.iloc[3,3]=day.iloc[3,1]/len(df)\n",
    "day.iloc[4,3]=day.iloc[4,1]/len(df)\n",
    "day.iloc[5,3]=day.iloc[5,1]/len(df)\n",
    "day.iloc[6,3]=day.iloc[6,1]/len(df)\n",
    "print('Day')\n",
    "day"
   ]
  },
  {
   "cell_type": "markdown",
   "metadata": {},
   "source": [
    "$P(Good|X)=\\dfrac{P(X|Good)P(Good)}{P(X)}$\n",
    "- senario #1, Attitude = good, Given: short, alone, center, morning, Monday\n",
    "- senario #2  Attitude = good, Given: long, not alone, center, night, Wednesday"
   ]
  },
  {
   "cell_type": "code",
   "execution_count": 185,
   "metadata": {},
   "outputs": [
    {
     "name": "stdout",
     "output_type": "stream",
     "text": [
      "The probability of senario #1 is: 0.49\n"
     ]
    }
   ],
   "source": [
    "top=attitude.iloc[1,1]*distance.iloc[2,2]*alone.iloc[0,2]*destination.iloc[0,2]*time.iloc[2,2]*day.iloc[5,2]\n",
    "bottom=(distance.iloc[2,0]/len(df))*(alone.iloc[0,0]/len(df))*(destination.iloc[0,0]/len(df))\\\n",
    "       *(time.iloc[2,0]/len(df))*(day.iloc[5,0]/len(df))\n",
    "s1=top/bottom\n",
    "print('The probability of senario #1 is:', np.round(s1,3))"
   ]
  },
  {
   "cell_type": "code",
   "execution_count": 186,
   "metadata": {},
   "outputs": [
    {
     "name": "stdout",
     "output_type": "stream",
     "text": [
      "The probability of senario #2 is: 0.49\n"
     ]
    }
   ],
   "source": [
    "top=attitude.iloc[1,1]*distance.iloc[1,2]*alone.iloc[1,2]*destination.iloc[0,2]*time.iloc[1,2]*day.iloc[4,2]\n",
    "bottom=(distance.iloc[1,0]/len(df))*(alone.iloc[1,0]/len(df))*(destination.iloc[0,0]/len(df))\\\n",
    "       *(time.iloc[1,0]/len(df))*(day.iloc[4,0]/len(df))\n",
    "s2=top/bottom\n",
    "print('The probability of senario #2 is:',np.round(s2,3))"
   ]
  },
  {
   "cell_type": "markdown",
   "metadata": {},
   "source": [
    "## Conclusion\n",
    "Because the distribution of 'Attitude' was manully set into the data any combination of variables would have the same probabily. Thus we know the Naive Bayes was performed correctly. "
   ]
  }
 ],
 "metadata": {
  "kernelspec": {
   "display_name": "Python 3.7 (tensorflow)",
   "language": "python",
   "name": "tensorflow"
  },
  "language_info": {
   "codemirror_mode": {
    "name": "ipython",
    "version": 3
   },
   "file_extension": ".py",
   "mimetype": "text/x-python",
   "name": "python",
   "nbconvert_exporter": "python",
   "pygments_lexer": "ipython3",
   "version": "3.7.7"
  }
 },
 "nbformat": 4,
 "nbformat_minor": 4
}
