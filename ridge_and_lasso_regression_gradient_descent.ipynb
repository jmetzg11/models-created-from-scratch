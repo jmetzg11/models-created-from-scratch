{
 "cells": [
  {
   "cell_type": "markdown",
   "metadata": {},
   "source": [
    "# Ridge and Lasso Regression"
   ]
  },
  {
   "cell_type": "code",
   "execution_count": 3,
   "metadata": {},
   "outputs": [],
   "source": [
    "import pandas as pd\n",
    "import numpy as np"
   ]
  },
  {
   "cell_type": "markdown",
   "metadata": {},
   "source": [
    "### Importing the data\n",
    "- data will be used from https://archive.ics.uci.edu/ml/datasets/Energy+efficiency\n",
    "- The X columns represent building features and the Y column represent how the building holds heat"
   ]
  },
  {
   "cell_type": "code",
   "execution_count": 4,
   "metadata": {
    "scrolled": true
   },
   "outputs": [
    {
     "data": {
      "text/html": [
       "<div>\n",
       "<style scoped>\n",
       "    .dataframe tbody tr th:only-of-type {\n",
       "        vertical-align: middle;\n",
       "    }\n",
       "\n",
       "    .dataframe tbody tr th {\n",
       "        vertical-align: top;\n",
       "    }\n",
       "\n",
       "    .dataframe thead th {\n",
       "        text-align: right;\n",
       "    }\n",
       "</style>\n",
       "<table border=\"1\" class=\"dataframe\">\n",
       "  <thead>\n",
       "    <tr style=\"text-align: right;\">\n",
       "      <th></th>\n",
       "      <th>X1</th>\n",
       "      <th>X2</th>\n",
       "      <th>X3</th>\n",
       "      <th>X4</th>\n",
       "      <th>X5</th>\n",
       "      <th>X6</th>\n",
       "      <th>X7</th>\n",
       "      <th>X8</th>\n",
       "      <th>Y1</th>\n",
       "    </tr>\n",
       "  </thead>\n",
       "  <tbody>\n",
       "    <tr>\n",
       "      <th>0</th>\n",
       "      <td>0.98</td>\n",
       "      <td>514.5</td>\n",
       "      <td>294.0</td>\n",
       "      <td>110.25</td>\n",
       "      <td>7.0</td>\n",
       "      <td>2.0</td>\n",
       "      <td>0.0</td>\n",
       "      <td>0.0</td>\n",
       "      <td>15.55</td>\n",
       "    </tr>\n",
       "    <tr>\n",
       "      <th>1</th>\n",
       "      <td>0.98</td>\n",
       "      <td>514.5</td>\n",
       "      <td>294.0</td>\n",
       "      <td>110.25</td>\n",
       "      <td>7.0</td>\n",
       "      <td>3.0</td>\n",
       "      <td>0.0</td>\n",
       "      <td>0.0</td>\n",
       "      <td>15.55</td>\n",
       "    </tr>\n",
       "    <tr>\n",
       "      <th>2</th>\n",
       "      <td>0.98</td>\n",
       "      <td>514.5</td>\n",
       "      <td>294.0</td>\n",
       "      <td>110.25</td>\n",
       "      <td>7.0</td>\n",
       "      <td>4.0</td>\n",
       "      <td>0.0</td>\n",
       "      <td>0.0</td>\n",
       "      <td>15.55</td>\n",
       "    </tr>\n",
       "    <tr>\n",
       "      <th>3</th>\n",
       "      <td>0.98</td>\n",
       "      <td>514.5</td>\n",
       "      <td>294.0</td>\n",
       "      <td>110.25</td>\n",
       "      <td>7.0</td>\n",
       "      <td>5.0</td>\n",
       "      <td>0.0</td>\n",
       "      <td>0.0</td>\n",
       "      <td>15.55</td>\n",
       "    </tr>\n",
       "    <tr>\n",
       "      <th>4</th>\n",
       "      <td>0.90</td>\n",
       "      <td>563.5</td>\n",
       "      <td>318.5</td>\n",
       "      <td>122.50</td>\n",
       "      <td>7.0</td>\n",
       "      <td>2.0</td>\n",
       "      <td>0.0</td>\n",
       "      <td>0.0</td>\n",
       "      <td>20.84</td>\n",
       "    </tr>\n",
       "  </tbody>\n",
       "</table>\n",
       "</div>"
      ],
      "text/plain": [
       "     X1     X2     X3      X4   X5   X6   X7   X8     Y1\n",
       "0  0.98  514.5  294.0  110.25  7.0  2.0  0.0  0.0  15.55\n",
       "1  0.98  514.5  294.0  110.25  7.0  3.0  0.0  0.0  15.55\n",
       "2  0.98  514.5  294.0  110.25  7.0  4.0  0.0  0.0  15.55\n",
       "3  0.98  514.5  294.0  110.25  7.0  5.0  0.0  0.0  15.55\n",
       "4  0.90  563.5  318.5  122.50  7.0  2.0  0.0  0.0  20.84"
      ]
     },
     "execution_count": 4,
     "metadata": {},
     "output_type": "execute_result"
    }
   ],
   "source": [
    "data=pd.read_csv('heating.csv')\n",
    "data=data.iloc[:768,:-3]\n",
    "data.head()"
   ]
  },
  {
   "cell_type": "markdown",
   "metadata": {},
   "source": [
    "### Dividing the data into training and test sets"
   ]
  },
  {
   "cell_type": "code",
   "execution_count": 5,
   "metadata": {},
   "outputs": [],
   "source": [
    "import random\n",
    "target='Y1'\n",
    "features=data.columns.drop(labels='Y1')\n",
    "i_test=random.sample(range(0, 768),192)\n",
    "i_train=[]\n",
    "for i in data.index:\n",
    "    if i not in i_test:\n",
    "        i_train.append(i)\n",
    "X_train=data.loc[i_train, features]\n",
    "y_train=data.loc[i_train, target]\n",
    "X_test=data.loc[i_test, features]\n",
    "y_test=data.loc[i_test, target]"
   ]
  },
  {
   "cell_type": "markdown",
   "metadata": {},
   "source": [
    "### Normalizing the data"
   ]
  },
  {
   "cell_type": "code",
   "execution_count": 6,
   "metadata": {},
   "outputs": [],
   "source": [
    "mean=np.mean(X_train)\n",
    "std=np.std(X_train)\n",
    "X_train-=mean\n",
    "X_train/=std\n",
    "X_test-=mean\n",
    "X_test/=mean"
   ]
  },
  {
   "cell_type": "markdown",
   "metadata": {},
   "source": [
    "### Inserting bais term and turning data in Numpy Arrays"
   ]
  },
  {
   "cell_type": "code",
   "execution_count": 7,
   "metadata": {},
   "outputs": [],
   "source": [
    "X_train.insert(0,'bias',1)\n",
    "X_test.insert(0,'bias',1)\n",
    "X_train=np.array(X_train)\n",
    "X_test=np.array(X_test)\n",
    "y_train=np.array([y_train]).T\n",
    "y_test=np.array([y_test]).T"
   ]
  },
  {
   "cell_type": "markdown",
   "metadata": {},
   "source": [
    "### Cost function for Ridge Regression \n",
    "$\\dfrac{1}{m}[\\,\\sum_{i=1}^{m}(\\,y^{i}-h(\\,x^{i})\\,)\\,^{2}+\\lambda\\sum_{j=1}^{n}w_{j}^{2}]\\,$\n",
    "### Cost function for Lasso  Regression \n",
    "$\\dfrac{1}{m}[\\,\\sum_{i=1}^{m}(\\,y^{i}-h(\\,x^{i})\\,)\\,^{2}+\\lambda\\sum_{j=1}^{n}|w_{j}|]\\,$\n",
    "### Partial Derivatives from Features\n",
    "$\\delta= 2 * ((\\epsilon * X_{i}) + (L2 * W_{i}))$ \n",
    "### Weight Updates\n",
    "$W_{i}=W_{i-1}-(\\alpha*\\delta)/m$"
   ]
  },
  {
   "cell_type": "markdown",
   "metadata": {},
   "source": [
    "### MSE Ridge comparision with sklearn"
   ]
  },
  {
   "cell_type": "code",
   "execution_count": 14,
   "metadata": {
    "scrolled": true
   },
   "outputs": [
    {
     "name": "stdout",
     "output_type": "stream",
     "text": [
      "The MSE for my Ridge on train: 8.87\n",
      "The MSE for sklearn Ridge on train: 8.776\n",
      "The MSE for my Ridge on test: 39.977\n",
      "The MSE for sklearn Ridge on test: 39.829\n"
     ]
    }
   ],
   "source": [
    "r_w=np.zeros((X_train.shape[1],1))\n",
    "alpha=.1\n",
    "L2=1.2\n",
    "epochs=1000\n",
    "for epoch in range(epochs):\n",
    "    predictions=np.dot(X_train,r_w).reshape(-1,1)\n",
    "    errors=predictions-y_train\n",
    "    for i in range(r_w.shape[0]):\n",
    "        if i ==0:\n",
    "            delta=np.dot(X_train[:,i],errors)\n",
    "        else:\n",
    "            delta=(np.dot(X_train[:,i],errors)+L2*(r_w[i]**2))\n",
    "        r_w[i]= r_w[i] - (alpha*delta)/len(y_train)  \n",
    "\n",
    "from sklearn.linear_model import Ridge\n",
    "ridge=Ridge(alpha=1.2,fit_intercept=False)\n",
    "ridge.fit(X_train,y_train)\n",
    "sk_r_train=ridge.predict(X_train)\n",
    "sk_r_test=ridge.predict(X_test) \n",
    "mse_sk_r_train=np.sum((y_train-sk_r_train)**2)/len(X_train)\n",
    "mse_sk_r_test=np.sum((y_test-sk_r_test)**2)/len(X_test)\n",
    "\n",
    "p_r_train=np.dot(X_train,r_w)\n",
    "p_r_test=np.dot(X_test,r_w)\n",
    "mse_r_train=np.sum((y_train-p_r_train)**2)/len(X_train)\n",
    "mse_r_test=np.sum((y_test-p_r_test)**2)/len(X_test)\n",
    "\n",
    "print('The MSE for my Ridge on train:', np.round(mse_r_train,3))\n",
    "print('The MSE for sklearn Ridge on train:', np.round(mse_sk_r_train,3))\n",
    "print('The MSE for my Ridge on test:', np.round(mse_r_test,3))\n",
    "print('The MSE for sklearn Ridge on test:', np.round(mse_sk_r_test,3))"
   ]
  },
  {
   "cell_type": "code",
   "execution_count": 18,
   "metadata": {},
   "outputs": [
    {
     "name": "stdout",
     "output_type": "stream",
     "text": [
      "The MSE for my Lasso on train: 8.776\n",
      "The MSE for sklearn Lasso on train: 8.776\n",
      "The MSE for my Lasso on test: 39.532\n",
      "The MSE for sklearn Lasso on test: 39.829\n"
     ]
    }
   ],
   "source": [
    "l_w=np.zeros((X_train.shape[1],1))\n",
    "alpha=.1\n",
    "L1=1.2\n",
    "epochs=1000\n",
    "lasso_cost=[]\n",
    "for epoch in range(epochs):\n",
    "    predictions=np.dot(X_train,l_w).reshape(-1,1)\n",
    "    errors=predictions-y_train\n",
    "    lasso_cost.append(np.sum((errors**2)/(len(y_train))))\n",
    "    for i in range(l_w.shape[0]):\n",
    "        if i ==0:\n",
    "            delta=np.dot(X_train[:,i],errors)\n",
    "        else:\n",
    "            delta=(np.dot(X_train[:,i],errors)+L1*(np.absolute(l_w[i])))\n",
    "        l_w[i]= l_w[i] - (alpha*delta)/len(y_train)  \n",
    "        \n",
    "from sklearn.linear_model import Lasso\n",
    "lasso=Ridge(alpha=1.2,fit_intercept=False)\n",
    "lasso.fit(X_train,y_train)\n",
    "sk_l_train=lasso.predict(X_train)\n",
    "sk_l_test=lasso.predict(X_test) \n",
    "mse_sk_l_train=np.sum((y_train-sk_l_train)**2)/len(X_train)\n",
    "mse_sk_l_test=np.sum((y_test-sk_l_test)**2)/len(X_test)\n",
    "\n",
    "p_l_train=np.dot(X_train,l_w)\n",
    "p_l_test=np.dot(X_test,l_w)\n",
    "mse_l_train=np.sum((y_train-p_l_train)**2)/len(X_train)\n",
    "mse_l_test=np.sum((y_test-p_l_test)**2)/len(X_test)\n",
    "\n",
    "print('The MSE for my Lasso on train:', np.round(mse_l_train,3))\n",
    "print('The MSE for sklearn Lasso on train:', np.round(mse_sk_l_train,3))\n",
    "print('The MSE for my Lasso on test:', np.round(mse_l_test,3))\n",
    "print('The MSE for sklearn Lasso on test:', np.round(mse_sk_l_test,3))"
   ]
  },
  {
   "cell_type": "markdown",
   "metadata": {},
   "source": [
    "### Weight Comparision with sklearn"
   ]
  },
  {
   "cell_type": "markdown",
   "metadata": {},
   "source": [
    "### Gradient Descent Comparisons\n",
    "- For fun I put different learning rates or else the Lasso and the Ridge would be identical on the graph. \n",
    "- OLS learning rate = 1\n",
    "- Ridge learning rate = .1\n",
    "- Lasso learning rate = .01"
   ]
  },
  {
   "cell_type": "code",
   "execution_count": 43,
   "metadata": {
    "scrolled": true
   },
   "outputs": [
    {
     "data": {
      "image/png": "[encoded data removed]",
      "text/plain": [
       "<Figure size 720x288 with 1 Axes>"
      ]
     },
     "metadata": {
      "needs_background": "light"
     },
     "output_type": "display_data"
    }
   ],
   "source": [
    "weights=np.zeros((X_train.shape[1],1))\n",
    "alpha=4\n",
    "ols_cost=[]\n",
    "epochs=1000\n",
    "for epoch in range(epochs):\n",
    "    predictions=np.dot(X_train,weights).reshape(-1,1)\n",
    "    errors=predictions-y_train\n",
    "    ols_cost.append(np.sum((errors**2)/(len(y_train))))\n",
    "    delta=np.dot(X_train.T,errors)/len(y_train)\n",
    "    weights= weights - (alpha*delta)/len(y_train)\n",
    "ridge_cost=[]\n",
    "r_w=np.zeros((X_train.shape[1],1))\n",
    "alpha=.1\n",
    "L2=1.2\n",
    "for epoch in range(epochs):\n",
    "    predictions=np.dot(X_train,r_w).reshape(-1,1)\n",
    "    errors=predictions-y_train\n",
    "    ridge_cost.append(np.sum((errors**2)/(len(y_train))))\n",
    "    for i in range(r_w.shape[0]):\n",
    "        if i ==0:\n",
    "            delta=np.dot(X_train[:,i],errors)\n",
    "        else:\n",
    "            delta=(np.dot(X_train[:,i],errors)+L2*(r_w[i]**2))\n",
    "        r_w[i]= r_w[i] - (alpha*delta)/len(y_train)    \n",
    "l_w=np.zeros((X_train.shape[1],1))\n",
    "alpha=.01\n",
    "L1=1.2\n",
    "lasso_cost=[]\n",
    "for epoch in range(epochs):\n",
    "    predictions=np.dot(X_train,l_w).reshape(-1,1)\n",
    "    errors=predictions-y_train\n",
    "    lasso_cost.append(np.sum((errors**2)/(len(y_train))))\n",
    "    for i in range(l_w.shape[0]):\n",
    "        if i ==0:\n",
    "            delta=np.dot(X_train[:,i],errors)\n",
    "        else:\n",
    "            delta=(np.dot(X_train[:,i],errors)+L1*(np.absolute(l_w[i])))\n",
    "        l_w[i]= l_w[i] - (alpha*delta)/len(y_train)  \n",
    "import matplotlib.pyplot as plt            \n",
    "fig, ax = plt.subplots(figsize=(10,4))\n",
    "ax.set_xlabel('Iterations')\n",
    "ax.set_ylabel('Cost')\n",
    "fig.suptitle('Gradient Descent')\n",
    "ax.plot(range(epochs),ridge_cost,label='Ridge')\n",
    "ax.plot(range(epochs),ols_cost,label='OLS')\n",
    "ax.plot(range(epochs),lasso_cost,label='Lasso')\n",
    "ax.legend(loc='upper right')\n",
    "plt.show() "
   ]
  },
  {
   "cell_type": "markdown",
   "metadata": {},
   "source": [
    "### Weight Comparision with sklearn"
   ]
  },
  {
   "cell_type": "code",
   "execution_count": 48,
   "metadata": {},
   "outputs": [
    {
     "data": {
      "text/html": [
       "<div>\n",
       "<style scoped>\n",
       "    .dataframe tbody tr th:only-of-type {\n",
       "        vertical-align: middle;\n",
       "    }\n",
       "\n",
       "    .dataframe tbody tr th {\n",
       "        vertical-align: top;\n",
       "    }\n",
       "\n",
       "    .dataframe thead th {\n",
       "        text-align: right;\n",
       "    }\n",
       "</style>\n",
       "<table border=\"1\" class=\"dataframe\">\n",
       "  <thead>\n",
       "    <tr style=\"text-align: right;\">\n",
       "      <th></th>\n",
       "      <th>OLS</th>\n",
       "      <th>my Ridge</th>\n",
       "      <th>sklearn Ridge</th>\n",
       "      <th>my Lasso</th>\n",
       "      <th>sklearn Lasso</th>\n",
       "    </tr>\n",
       "  </thead>\n",
       "  <tbody>\n",
       "    <tr>\n",
       "      <th>0</th>\n",
       "      <td>22.469637</td>\n",
       "      <td>22.490799</td>\n",
       "      <td>22.444040</td>\n",
       "      <td>22.489828</td>\n",
       "      <td>22.444040</td>\n",
       "    </tr>\n",
       "    <tr>\n",
       "      <th>1</th>\n",
       "      <td>-0.295046</td>\n",
       "      <td>-8.324600</td>\n",
       "      <td>-5.118828</td>\n",
       "      <td>-0.790451</td>\n",
       "      <td>-5.118828</td>\n",
       "    </tr>\n",
       "    <tr>\n",
       "      <th>2</th>\n",
       "      <td>-1.091176</td>\n",
       "      <td>-4.059159</td>\n",
       "      <td>-2.276878</td>\n",
       "      <td>-1.083006</td>\n",
       "      <td>-2.276878</td>\n",
       "    </tr>\n",
       "    <tr>\n",
       "      <th>3</th>\n",
       "      <td>2.868539</td>\n",
       "      <td>0.124771</td>\n",
       "      <td>0.878665</td>\n",
       "      <td>2.591603</td>\n",
       "      <td>0.878665</td>\n",
       "    </tr>\n",
       "    <tr>\n",
       "      <th>4</th>\n",
       "      <td>-2.470625</td>\n",
       "      <td>-5.968323</td>\n",
       "      <td>-2.612107</td>\n",
       "      <td>-2.383474</td>\n",
       "      <td>-2.612107</td>\n",
       "    </tr>\n",
       "    <tr>\n",
       "      <th>5</th>\n",
       "      <td>4.923124</td>\n",
       "      <td>6.625148</td>\n",
       "      <td>8.589875</td>\n",
       "      <td>5.540359</td>\n",
       "      <td>8.589875</td>\n",
       "    </tr>\n",
       "    <tr>\n",
       "      <th>6</th>\n",
       "      <td>-0.047985</td>\n",
       "      <td>-0.057160</td>\n",
       "      <td>-0.058922</td>\n",
       "      <td>-0.050024</td>\n",
       "      <td>-0.058922</td>\n",
       "    </tr>\n",
       "    <tr>\n",
       "      <th>7</th>\n",
       "      <td>2.734479</td>\n",
       "      <td>2.671267</td>\n",
       "      <td>2.690593</td>\n",
       "      <td>2.728330</td>\n",
       "      <td>2.690593</td>\n",
       "    </tr>\n",
       "    <tr>\n",
       "      <th>8</th>\n",
       "      <td>0.379183</td>\n",
       "      <td>0.379427</td>\n",
       "      <td>0.385982</td>\n",
       "      <td>0.377249</td>\n",
       "      <td>0.385982</td>\n",
       "    </tr>\n",
       "  </tbody>\n",
       "</table>\n",
       "</div>"
      ],
      "text/plain": [
       "         OLS   my Ridge  sklearn Ridge   my Lasso  sklearn Lasso\n",
       "0  22.469637  22.490799      22.444040  22.489828      22.444040\n",
       "1  -0.295046  -8.324600      -5.118828  -0.790451      -5.118828\n",
       "2  -1.091176  -4.059159      -2.276878  -1.083006      -2.276878\n",
       "3   2.868539   0.124771       0.878665   2.591603       0.878665\n",
       "4  -2.470625  -5.968323      -2.612107  -2.383474      -2.612107\n",
       "5   4.923124   6.625148       8.589875   5.540359       8.589875\n",
       "6  -0.047985  -0.057160      -0.058922  -0.050024      -0.058922\n",
       "7   2.734479   2.671267       2.690593   2.728330       2.690593\n",
       "8   0.379183   0.379427       0.385982   0.377249       0.385982"
      ]
     },
     "execution_count": 48,
     "metadata": {},
     "output_type": "execute_result"
    }
   ],
   "source": [
    "weight_table=pd.DataFrame()\n",
    "weight_table['OLS']=weights.ravel()\n",
    "weight_table['my Ridge']=r_w.ravel()\n",
    "weight_table['sklearn Ridge']=ridge.coef_.ravel()\n",
    "weight_table['my Lasso']=l_w.ravel()\n",
    "weight_table['sklearn Lasso']=lasso.coef_.ravel()\n",
    "weight_table"
   ]
  }
 ],
 "metadata": {
  "kernelspec": {
   "display_name": "Python 3.7 (tensorflow)",
   "language": "python",
   "name": "tensorflow"
  },
  "language_info": {
   "codemirror_mode": {
    "name": "ipython",
    "version": 3
   },
   "file_extension": ".py",
   "mimetype": "text/x-python",
   "name": "python",
   "nbconvert_exporter": "python",
   "pygments_lexer": "ipython3",
   "version": "3.7.7"
  }
 },
 "nbformat": 4,
 "nbformat_minor": 4
}
