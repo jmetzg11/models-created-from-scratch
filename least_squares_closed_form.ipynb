{
 "cells": [
  {
   "cell_type": "markdown",
   "metadata": {},
   "source": [
    "## Least Squares"
   ]
  },
  {
   "cell_type": "code",
   "execution_count": 1,
   "metadata": {},
   "outputs": [],
   "source": [
    "import pandas as pd\n",
    "import numpy as np"
   ]
  },
  {
   "cell_type": "markdown",
   "metadata": {},
   "source": [
    "### loading the data"
   ]
  },
  {
   "cell_type": "code",
   "execution_count": 2,
   "metadata": {
    "scrolled": false
   },
   "outputs": [],
   "source": [
    "data = pd.read_csv('https://web.stanford.edu/~hastie/ElemStatLearn/datasets/prostate.data',sep='\\t',index_col=0)"
   ]
  },
  {
   "cell_type": "markdown",
   "metadata": {},
   "source": [
    "### separating into training and test sets"
   ]
  },
  {
   "cell_type": "code",
   "execution_count": 3,
   "metadata": {},
   "outputs": [],
   "source": [
    "train=data.loc[data['train']=='T']\n",
    "test=data.loc[data['train']=='F']\n",
    "y_train=train['lpsa']\n",
    "X_train=train.drop(columns=['lpsa','train'])\n",
    "y_test=test['lpsa']\n",
    "X_test=test.drop(columns=['lpsa','train'])"
   ]
  },
  {
   "cell_type": "markdown",
   "metadata": {},
   "source": [
    "### Normalizing the data"
   ]
  },
  {
   "cell_type": "code",
   "execution_count": 4,
   "metadata": {},
   "outputs": [],
   "source": [
    "mean=np.mean(X_train)\n",
    "std=np.std(X_train)\n",
    "X_train-=mean\n",
    "X_train/=std\n",
    "X_test-=mean\n",
    "X_test/=std"
   ]
  },
  {
   "cell_type": "markdown",
   "metadata": {},
   "source": [
    "### Into numpy arrays"
   ]
  },
  {
   "cell_type": "code",
   "execution_count": 6,
   "metadata": {
    "scrolled": false
   },
   "outputs": [],
   "source": [
    "X_train.insert(0,'bias',1)\n",
    "X_test.insert(0,'bias',1)\n",
    "X=np.array(X_train)\n",
    "y=np.array([y_train]).T\n",
    "test_features=np.array(X_test)\n",
    "test_target=np.array([y_test]).T\n",
    "Xt=X.T"
   ]
  },
  {
   "cell_type": "markdown",
   "metadata": {},
   "source": [
    "### Linear Regression with sklear \n",
    "to use as a comparision"
   ]
  },
  {
   "cell_type": "code",
   "execution_count": 7,
   "metadata": {},
   "outputs": [],
   "source": [
    "from sklearn.linear_model import LinearRegression\n",
    "from sklearn.metrics import mean_squared_error\n",
    "lr = LinearRegression(fit_intercept=False).fit(X_train, y_train)\n",
    "train_predict=lr.predict(X_train)\n",
    "test_predict=lr.predict(X_test)"
   ]
  },
  {
   "cell_type": "markdown",
   "metadata": {},
   "source": [
    "### Finding the coefficients\n",
    "$\\beta=(X^{T}X)^{-1}X^{T}y$"
   ]
  },
  {
   "cell_type": "code",
   "execution_count": 8,
   "metadata": {
    "scrolled": true
   },
   "outputs": [],
   "source": [
    "one=np.dot(Xt,X)\n",
    "one=np.linalg.inv(one)\n",
    "two=np.dot(Xt,y)\n",
    "coeff=np.dot(one,two)"
   ]
  },
  {
   "cell_type": "markdown",
   "metadata": {},
   "source": [
    "### Making predictions based off the coefficients\n",
    "$\\hat{y}=X\\hat{\\beta}$"
   ]
  },
  {
   "cell_type": "code",
   "execution_count": 9,
   "metadata": {},
   "outputs": [],
   "source": [
    "y_hat=np.dot(test_features,coeff)"
   ]
  },
  {
   "cell_type": "markdown",
   "metadata": {},
   "source": [
    "### Mean Squared Error\n",
    "$MSE=\\dfrac{1}{n}\\sum\\limits_{i=1}^{n}(y_{i}-\\hat{y})^{2}$"
   ]
  },
  {
   "cell_type": "code",
   "execution_count": 10,
   "metadata": {},
   "outputs": [
    {
     "name": "stdout",
     "output_type": "stream",
     "text": [
      "MSE on the training set: 0.43919976805833433\n",
      "MSE on train with sklearn: 0.43919976805833433\n",
      "MSE on the test set: 0.5212740055076007\n",
      "MSE on test with sklearn: 0.5212740055076\n"
     ]
    }
   ],
   "source": [
    "predict_train=np.dot(X,coeff)\n",
    "predict_test=np.dot(test_features,coeff)\n",
    "MSE_train=(1/X.shape[0])*np.sum((y-predict_train)**2)\n",
    "MSE_test=(1/test_features.shape[0])*np.sum((test_target-predict_test)**2)\n",
    "print('MSE on the training set:', MSE_train)\n",
    "print('MSE on train with sklearn:', mean_squared_error(train_predict,y_train))\n",
    "print('MSE on the test set:', MSE_test)\n",
    "print('MSE on test with sklearn:', mean_squared_error(test_predict, y_test))"
   ]
  },
  {
   "cell_type": "code",
   "execution_count": 11,
   "metadata": {
    "scrolled": false
   },
   "outputs": [
    {
     "data": {
      "text/html": [
       "<div>\n",
       "<style scoped>\n",
       "    .dataframe tbody tr th:only-of-type {\n",
       "        vertical-align: middle;\n",
       "    }\n",
       "\n",
       "    .dataframe tbody tr th {\n",
       "        vertical-align: top;\n",
       "    }\n",
       "\n",
       "    .dataframe thead th {\n",
       "        text-align: right;\n",
       "    }\n",
       "</style>\n",
       "<table border=\"1\" class=\"dataframe\">\n",
       "  <thead>\n",
       "    <tr style=\"text-align: right;\">\n",
       "      <th></th>\n",
       "      <th>variables</th>\n",
       "      <th>coefficients</th>\n",
       "      <th>sklearn coef</th>\n",
       "    </tr>\n",
       "  </thead>\n",
       "  <tbody>\n",
       "    <tr>\n",
       "      <th>0</th>\n",
       "      <td>bias</td>\n",
       "      <td>2.452345</td>\n",
       "      <td>2.452345</td>\n",
       "    </tr>\n",
       "    <tr>\n",
       "      <th>1</th>\n",
       "      <td>lcavol</td>\n",
       "      <td>0.711041</td>\n",
       "      <td>0.711041</td>\n",
       "    </tr>\n",
       "    <tr>\n",
       "      <th>2</th>\n",
       "      <td>lweight</td>\n",
       "      <td>0.290450</td>\n",
       "      <td>0.290450</td>\n",
       "    </tr>\n",
       "    <tr>\n",
       "      <th>3</th>\n",
       "      <td>age</td>\n",
       "      <td>-0.141482</td>\n",
       "      <td>-0.141482</td>\n",
       "    </tr>\n",
       "    <tr>\n",
       "      <th>4</th>\n",
       "      <td>lbph</td>\n",
       "      <td>0.210420</td>\n",
       "      <td>0.210420</td>\n",
       "    </tr>\n",
       "    <tr>\n",
       "      <th>5</th>\n",
       "      <td>svi</td>\n",
       "      <td>0.307300</td>\n",
       "      <td>0.307300</td>\n",
       "    </tr>\n",
       "    <tr>\n",
       "      <th>6</th>\n",
       "      <td>lcp</td>\n",
       "      <td>-0.286841</td>\n",
       "      <td>-0.286841</td>\n",
       "    </tr>\n",
       "    <tr>\n",
       "      <th>7</th>\n",
       "      <td>gleason</td>\n",
       "      <td>-0.020757</td>\n",
       "      <td>-0.020757</td>\n",
       "    </tr>\n",
       "    <tr>\n",
       "      <th>8</th>\n",
       "      <td>pgg45</td>\n",
       "      <td>0.275268</td>\n",
       "      <td>0.275268</td>\n",
       "    </tr>\n",
       "  </tbody>\n",
       "</table>\n",
       "</div>"
      ],
      "text/plain": [
       "  variables  coefficients  sklearn coef\n",
       "0      bias      2.452345      2.452345\n",
       "1    lcavol      0.711041      0.711041\n",
       "2   lweight      0.290450      0.290450\n",
       "3       age     -0.141482     -0.141482\n",
       "4      lbph      0.210420      0.210420\n",
       "5       svi      0.307300      0.307300\n",
       "6       lcp     -0.286841     -0.286841\n",
       "7   gleason     -0.020757     -0.020757\n",
       "8     pgg45      0.275268      0.275268"
      ]
     },
     "execution_count": 11,
     "metadata": {},
     "output_type": "execute_result"
    }
   ],
   "source": [
    "show=pd.DataFrame()\n",
    "show['variables']=X_train.columns\n",
    "#show=show.iloc[:-1,:]\n",
    "show['coefficients']=coeff\n",
    "show['sklearn coef']=lr.coef_\n",
    "show"
   ]
  }
 ],
 "metadata": {
  "kernelspec": {
   "display_name": "Python 3.7 (tensorflow)",
   "language": "python",
   "name": "tensorflow"
  },
  "language_info": {
   "codemirror_mode": {
    "name": "ipython",
    "version": 3
   },
   "file_extension": ".py",
   "mimetype": "text/x-python",
   "name": "python",
   "nbconvert_exporter": "python",
   "pygments_lexer": "ipython3",
   "version": "3.7.7"
  }
 },
 "nbformat": 4,
 "nbformat_minor": 4
}
