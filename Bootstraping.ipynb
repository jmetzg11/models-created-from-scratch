{
 "cells": [
  {
   "cell_type": "code",
   "execution_count": 1,
   "metadata": {},
   "outputs": [],
   "source": [
    "import random\n",
    "import numpy as np\n",
    "import matplotlib.pyplot as plt"
   ]
  },
  {
   "cell_type": "markdown",
   "metadata": {},
   "source": [
    "### Creating data where Central Limit Theorem assumptions aren't met"
   ]
  },
  {
   "cell_type": "code",
   "execution_count": 2,
   "metadata": {
    "scrolled": true
   },
   "outputs": [
    {
     "data": {
      "image/png": "[encoded data removed]",
      "text/plain": [
       "<Figure size 432x288 with 1 Axes>"
      ]
     },
     "metadata": {
      "needs_background": "light"
     },
     "output_type": "display_data"
    },
    {
     "name": "stdout",
     "output_type": "stream",
     "text": [
      "The mean of sample: 10.146075350880416\n",
      "The median of sample: 9.878507344611299\n",
      "The standard deviation of samepl: 5.199522456731191\n"
     ]
    }
   ],
   "source": [
    "sample=[]\n",
    "std=2\n",
    "for i in range(2,19,2):\n",
    "    for num in range(12):\n",
    "        sample.append(i+(np.random.randn()*std))\n",
    "hist, bins = np.histogram(sample, bins=50)\n",
    "width=0.7 *(bins[1]-bins[0])\n",
    "center=(bins[:-1]+bins[1:])/2\n",
    "plt.bar(center, hist, align='center',width=width)\n",
    "plt.show()\n",
    "print('The mean of sample:', np.mean(sample))\n",
    "print('The median of sample:', np.median(sample))\n",
    "print('The standard deviation of samepl:', np.std(sample))"
   ]
  },
  {
   "cell_type": "markdown",
   "metadata": {},
   "source": [
    "### Bootstrapping"
   ]
  },
  {
   "cell_type": "code",
   "execution_count": 4,
   "metadata": {
    "scrolled": true
   },
   "outputs": [
    {
     "data": {
      "image/png": "[encoded data removed]",
      "text/plain": [
       "<Figure size 432x288 with 1 Axes>"
      ]
     },
     "metadata": {
      "needs_background": "light"
     },
     "output_type": "display_data"
    },
    {
     "name": "stdout",
     "output_type": "stream",
     "text": [
      "The mean of bootstrapping: 10.142859544847724\n",
      "The median of bootstrapping: 10.14408654943395\n",
      "The standard deviation of bootstrapping: 0.5021035125916659\n"
     ]
    }
   ],
   "source": [
    "boot=[]\n",
    "for i in range(25000):\n",
    "    resample=random.choices(sample, k=108)\n",
    "    boot.append(np.mean(resample))\n",
    "hist, bins = np.histogram(boot, bins=50)\n",
    "width=0.7 *(bins[1]-bins[0])\n",
    "center=(bins[:-1]+bins[1:])/2\n",
    "plt.bar(center, hist, align='center',width=width)\n",
    "plt.show()\n",
    "print('The mean of bootstrapping:', np.mean(boot))\n",
    "print('The median of bootstrapping:', np.median(boot))\n",
    "print('The standard deviation of bootstrapping:', np.std(boot))"
   ]
  }
 ],
 "metadata": {
  "kernelspec": {
   "display_name": "Python 3.7 (tensorflow)",
   "language": "python",
   "name": "tensorflow"
  },
  "language_info": {
   "codemirror_mode": {
    "name": "ipython",
    "version": 3
   },
   "file_extension": ".py",
   "mimetype": "text/x-python",
   "name": "python",
   "nbconvert_exporter": "python",
   "pygments_lexer": "ipython3",
   "version": "3.7.7"
  }
 },
 "nbformat": 4,
 "nbformat_minor": 4
}
